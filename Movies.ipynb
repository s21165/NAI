{
 "cells": [
  {
   "cell_type": "code",
   "execution_count": null,
   "outputs": [],
   "source": [
    "import json\n",
    "\n",
    "import numpy\n",
    "import numpy as np"
   ],
   "metadata": {
    "collapsed": false
   }
  },
  {
   "cell_type": "markdown",
   "source": [
    "## libraries that we need"
   ],
   "metadata": {
    "collapsed": false
   }
  },
  {
   "cell_type": "code",
   "execution_count": null,
   "outputs": [],
   "source": [
    "def find_common_movies(data: dict, user1: str, user2: str) -> dict:\n",
    "\n",
    "    common_movies = {}\n",
    "    for item in data[user1]:\n",
    "        if item in data[user2]:\n",
    "            common_movies[item] = 1\n",
    "    return common_movies"
   ],
   "metadata": {
    "collapsed": false
   }
  },
  {
   "cell_type": "markdown",
   "source": [
    "# Find and return only movies that are rated similar by both users\n",
    "# parameters:\n",
    "# user1: name of user1\n",
    "# user2: name of user2\n",
    "# data: dict with users movies and ratings for them"
   ],
   "metadata": {
    "collapsed": false
   }
  },
  {
   "cell_type": "code",
   "execution_count": null,
   "outputs": [],
   "source": [
    "def euclidean_score(data: dict, user1: str, user2: str) -> numpy.float64:\n",
    "\n",
    "    find_common_movies(data, user1, user2)\n",
    "    squared_diff = []\n",
    "    for item in data[user1]:\n",
    "        if item in data[user2]:\n",
    "            squared_diff.append(np.square(data[user1][item] - data[user2][item]))\n",
    "    return 1 / (1 + np.sqrt(np.sum(squared_diff)))\n"
   ],
   "metadata": {
    "collapsed": false
   }
  },
  {
   "cell_type": "markdown",
   "source": [
    "# Compute the Euclidean distance score between user1 and user2\n",
    "# parameters:\n",
    "# user2: name of user2\n",
    "# user1: name of user1\n",
    "# data: dict with users movies and ratings for them\n",
    "# return: float correlation between target users, between 1 and 0"
   ],
   "metadata": {
    "collapsed": false
   }
  },
  {
   "cell_type": "code",
   "execution_count": null,
   "outputs": [],
   "source": [
    "def average_duplicates(movies: list) -> list:\n",
    "\n",
    "    new_db = []\n",
    "    for movie in movies:\n",
    "        tmp_list = []\n",
    "        if movie in new_db:\n",
    "            continue\n",
    "        for i in movies:\n",
    "            if movie[0] == i[0]:\n",
    "                tmp_list.append(i)\n",
    "        avg_movie = [tmp_list[0][0], 0]\n",
    "        for i in tmp_list:\n",
    "            avg_movie[1] += i[1]\n",
    "        avg_movie[1] = avg_movie[1] / len(tmp_list)\n",
    "        if avg_movie not in new_db:\n",
    "            new_db.append(avg_movie)\n",
    "    return new_db"
   ],
   "metadata": {
    "collapsed": false
   }
  },
  {
   "cell_type": "markdown",
   "source": [
    "# Find movies that are duplicated in list and averages the ratings\n",
    "# parameters:\n",
    "# movies: list of movies, with their ratings\n",
    "# return: list of movies, without duplicates and with average rating"
   ],
   "metadata": {
    "collapsed": false
   }
  },
  {
   "cell_type": "code",
   "execution_count": 16,
   "outputs": [
    {
     "name": "stdout",
     "output_type": "stream",
     "text": [
      "Recommended movie for for you: Adrian Bloch\n",
      "\n",
      "Suits\n",
      "Kiler\n",
      "Naruto\n",
      "Nasza Planeta\n",
      "Kapitan Bomba\n",
      "\n",
      " If you are really bored: \n",
      "Polowanie na Czerwony Październik\n",
      "Braveheart\n",
      "The Expanse\n",
      "Miasteczko South Park\n",
      "Kraina Lodu\n"
     ]
    }
   ],
   "source": [
    "if __name__ == '__main__':\n",
    "\n",
    "    user = \"Adrian Bloch\"\n",
    "    #specify your user\n",
    "    ratings_file = 'ratings2.json'\n",
    "    #point file that contain users and their rates\n",
    "    with open(ratings_file, encoding=\"utf-8\") as f:\n",
    "        data = json.loads(f.read())\n",
    "    #open file\n",
    "\n",
    "    if user not in data:\n",
    "        raise TypeError(f\"Cannot find {user} in the dataset. You can choose from: {data.keys()}\")\n",
    "    #if user is not in file\n",
    "    db = []\n",
    "    for other_user in data:\n",
    "\n",
    "        similarity_ratio = euclidean_score(data, user, other_user)\n",
    "        distance = len(find_common_movies(data, user, other_user))\n",
    "        # If there are no common movies between the users,\n",
    "        # then skip\n",
    "\n",
    "        for movie in data[other_user]:\n",
    "            if movie not in data[user].keys():\n",
    "                db.append([movie, similarity_ratio * distance * data[other_user][movie]])\n",
    "\n",
    "    db = average_duplicates(db)\n",
    "\n",
    "\n",
    "    def my_func(e):\n",
    "        return e[1]\n",
    "\n",
    "    db.sort(key=my_func)\n",
    "\n",
    "    print(\"Recommended movie for for you: \" + user+ \"\\n\")\n",
    "    for i in db[-5:]:\n",
    "        print(i[0])\n",
    "\n",
    "    print(\"\\n If you are really bored: \")\n",
    "    for i in db[:5]:\n",
    "        print(i[0])\n"
   ],
   "metadata": {
    "collapsed": false
   }
  }
 ],
 "metadata": {
  "kernelspec": {
   "display_name": "Python 3",
   "language": "python",
   "name": "python3"
  },
  "language_info": {
   "codemirror_mode": {
    "name": "ipython",
    "version": 2
   },
   "file_extension": ".py",
   "mimetype": "text/x-python",
   "name": "python",
   "nbconvert_exporter": "python",
   "pygments_lexer": "ipython2",
   "version": "2.7.6"
  }
 },
 "nbformat": 4,
 "nbformat_minor": 0
}
