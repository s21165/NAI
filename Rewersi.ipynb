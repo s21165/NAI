{
 "cells": [
  {
   "cell_type": "markdown",
   "source": [
    "# Sprawozdanie laboratorium pierwsze\n",
    "## Reversi\n",
    "Witold Jagiełło-Królikowski s21165\n",
    "\n",
    "Adrian Bloch s21488\n"
   ],
   "metadata": {
    "collapsed": false
   }
  },
  {
   "cell_type": "code",
   "execution_count": 45,
   "outputs": [],
   "source": [
    "import numpy as np\n",
    "from easyAI import TwoPlayerGame"
   ],
   "metadata": {
    "collapsed": false,
    "pycharm": {
     "name": "#%%\n"
    }
   }
  },
  {
   "cell_type": "code",
   "execution_count": 46,
   "outputs": [],
   "source": [
    "to_string = lambda a: \"ABCDEFGH\"[a[0]] + str(a[1] + 1)\n",
    "to_array = lambda s: np.array([\"ABCDEFGH\".index(s[0]), int(s[1]) - 1])"
   ],
   "metadata": {
    "collapsed": false,
    "pycharm": {
     "name": "#%%\n"
    }
   }
  },
  {
   "cell_type": "markdown",
   "source": [
    "### inicjujemy zmienne"
   ],
   "metadata": {
    "collapsed": false,
    "pycharm": {
     "name": "#%% md\n"
    }
   }
  },
  {
   "cell_type": "markdown",
   "source": [
    "## Tworzymy klase Reversi i przekazujemy do niej TwoPlayerGame z biblioteki easyAI\n"
   ],
   "metadata": {
    "collapsed": false,
    "pycharm": {
     "name": "#%% md\n"
    }
   }
  },
  {
   "cell_type": "code",
   "execution_count": 47,
   "outputs": [],
   "source": [
    "\n",
    "class Reversi(TwoPlayerGame):\n",
    "\n",
    "    def __init__(self, players, board=None):\n",
    "        self.players = players\n",
    "        self.board = np.zeros((8, 8), dtype=int)\n",
    "        self.board[3, [3, 4]] = [1, 2]\n",
    "        self.board[4, [3, 4]] = [2, 1]\n",
    "        self.current_player = 1\n",
    "#tworzymy nowa plansze\n",
    "\n",
    "    def possible_moves(self):\n",
    "        #jede mozliwe ruchy ktore mozemy wykonac to takie ktore sprawia, ze doprowadzimy do pokazania reversu przeciwnika ;)\n",
    "        return [\n",
    "            to_string((i, j))\n",
    "            for i in range(8)\n",
    "            for j in range(8)\n",
    "            if (self.board[i, j] == 0)\n",
    "               and (pieces_flipped(self.board, (i, j), self.current_player) != []) #wykonujemy tylko kiedy możemy wykonac ruch\n",
    "        ]\n",
    "\n",
    "    def make_move(self, pos):\n",
    "        #kladziemy pionek koloru gracza na wyznaczonej pozycji i zmieniamy kolor pionkow ktore owy ruch zmieni\n",
    "        pos = to_array(pos)\n",
    "        flipped = pieces_flipped(self.board, pos, self.current_player)\n",
    "        for i, j in flipped:\n",
    "            self.board[i, j] = self.current_player\n",
    "        self.board[pos[0], pos[1]] = self.current_player\n",
    "\n",
    "    def show(self):\n",
    "        # pokazujemy plansze w czytelnym dla ludzkiego oka formacie\n",
    "        print(\n",
    "            \"\\n\"\n",
    "            + \"\\n\".join(\n",
    "                [\"  1 2 3 4 5 6 7 8\"]\n",
    "                + [\n",
    "                    \"ABCDEFGH\"[k]\n",
    "                    + \" \"\n",
    "                    + \" \".join(\n",
    "                        [[\".\", \"1\", \"2\", \"X\"][self.board[k][i]] for i in range(8)]\n",
    "                    )\n",
    "                    for k in range(8)\n",
    "                ]\n",
    "                + [\"\"]\n",
    "            )\n",
    "        )\n",
    "\n",
    "    def is_over(self):\n",
    "        #zalozyliśmy, że gra kończy się w momencie gdy któryś z graczy nie może wykonac ruchu, na potrzeby zaprezentowania działania stwierdziliśmy, że to wystarczy na ukazanie przebiegu gry\n",
    "        return self.possible_moves() == []\n",
    "\n",
    "    def scoring(self):\n",
    "        #Na poczatkowym etapie gry więcej daje nam zajęcie miejsc przy granicach mapy z racji na brak możliwości zmiany ich koloru przez przeciwnika, po przekroczeniu 32 pionków na planszy (mniej więcej połowa gry) bardziej liczy się już ilość pionków niż sama ich pozycja,\n",
    "\n",
    "\n",
    "        if np.sum(self.board == 0) > 32:  # nie ma jeszcze połowy wypełnionej\n",
    "            player = (self.board == self.current_player).astype(int)\n",
    "            opponent = (self.board == self.opponent_index).astype(int)\n",
    "            return ((player - opponent) * BOARD_SCORE).sum() #oceniamy pkt na podstawie wybranych przez nich pul\n",
    "        else:\n",
    "            npieces_player = np.sum(self.board == self.current_player)\n",
    "            npieces_opponent = np.sum(self.board == self.opponent_index)\n",
    "            return npieces_player - npieces_opponent #oceniamy na podstawie ilości pionkow\n"
   ],
   "metadata": {
    "collapsed": false,
    "pycharm": {
     "name": "#%%\n"
    }
   }
  },
  {
   "cell_type": "markdown",
   "source": [
    "## Tak wygląda storzona przez nasz plansza którą przekazujemy AI aby bardziej faworyzowała krańce mapy jako ruch."
   ],
   "metadata": {
    "collapsed": false
   }
  },
  {
   "cell_type": "code",
   "execution_count": 48,
   "outputs": [],
   "source": [
    "\n",
    "BOARD_SCORE = np.array(\n",
    "    [\n",
    "        [9, 3, 3, 3, 3, 3, 3, 9],\n",
    "        [3, 1, 1, 1, 1, 1, 1, 3],\n",
    "        [3, 1, 1, 1, 1, 1, 1, 3],\n",
    "        [3, 1, 1, 1, 1, 1, 1, 3],\n",
    "        [3, 1, 1, 1, 1, 1, 1, 3],\n",
    "        [3, 1, 1, 1, 1, 1, 1, 3],\n",
    "        [3, 1, 1, 1, 1, 1, 1, 3],\n",
    "        [9, 3, 3, 3, 3, 3, 3, 9],\n",
    "    ]\n",
    ")\n",
    "\n",
    "DIRECTIONS = [\n",
    "    np.array([i, j]) for i in [-1, 0, 1] for j in [-1, 0, 1] if (i != 0 or j != 0)\n",
    "]"
   ],
   "metadata": {
    "collapsed": false,
    "pycharm": {
     "name": "#%%\n"
    }
   }
  },
  {
   "cell_type": "code",
   "source": [
    "\n",
    "def pieces_flipped(board, pos, current_player):\n",
    "    #Zwraca liste pozycji które powinny się zamienić jeżeli gracz połozy na danym miejscu 'pos' pionek\n",
    "\n",
    "    flipped = []\n",
    "\n",
    "    for d in DIRECTIONS:\n",
    "        ppos = pos + d\n",
    "        streak = [] # zerujemy liczba serii do zmiany\n",
    "        while (0 <= ppos[0] <= 7) and (0 <= ppos[1] <= 7):\n",
    "            if board[ppos[0], ppos[1]] == 3 - current_player:\n",
    "                streak.append(+ppos) # dodajemy do streak pionki ktore będą mogły się zmienić\n",
    "            elif board[ppos[0], ppos[1]] == current_player:\n",
    "                flipped += streak # kończy się możliwość serii\n",
    "                break\n",
    "            else:\n",
    "                break\n",
    "            ppos += d\n",
    "#\n",
    "    return flipped\n"
   ],
   "metadata": {
    "collapsed": false,
    "pycharm": {
     "name": "#%%\n"
    }
   },
   "execution_count": 49,
   "outputs": []
  },
  {
   "cell_type": "code",
   "execution_count": 53,
   "outputs": [
    {
     "name": "stdout",
     "output_type": "stream",
     "text": [
      "\n",
      "  1 2 3 4 5 6 7 8\n",
      "A . . . . . . . .\n",
      "B . . . . . . . .\n",
      "C . . . . . . . .\n",
      "D . . . 1 2 . . .\n",
      "E . . . 2 1 . . .\n",
      "F . . . . . . . .\n",
      "G . . . . . . . .\n",
      "H . . . . . . . .\n",
      "\n"
     ]
    },
    {
     "ename": "TypeError",
     "evalue": "ask_move() missing 1 required positional argument: 'game'",
     "output_type": "error",
     "traceback": [
      "\u001B[1;31m---------------------------------------------------------------------------\u001B[0m",
      "\u001B[1;31mTypeError\u001B[0m                                 Traceback (most recent call last)",
      "Cell \u001B[1;32mIn [53], line 6\u001B[0m\n\u001B[0;32m      4\u001B[0m \u001B[38;5;66;03m# An example: Computer vs Computer:\u001B[39;00m\n\u001B[0;32m      5\u001B[0m game \u001B[38;5;241m=\u001B[39m Reversi([Human_Player, AI_Player(Negamax(\u001B[38;5;241m4\u001B[39m))])\n\u001B[1;32m----> 6\u001B[0m \u001B[43mgame\u001B[49m\u001B[38;5;241;43m.\u001B[39;49m\u001B[43mplay\u001B[49m\u001B[43m(\u001B[49m\u001B[43m)\u001B[49m\n\u001B[0;32m      7\u001B[0m \u001B[38;5;28;01mif\u001B[39;00m game\u001B[38;5;241m.\u001B[39mscoring() \u001B[38;5;241m>\u001B[39m \u001B[38;5;241m0\u001B[39m:\n\u001B[0;32m      8\u001B[0m     \u001B[38;5;28mprint\u001B[39m(\u001B[38;5;124m\"\u001B[39m\u001B[38;5;124mplayer \u001B[39m\u001B[38;5;132;01m%d\u001B[39;00m\u001B[38;5;124m wins.\u001B[39m\u001B[38;5;124m\"\u001B[39m \u001B[38;5;241m%\u001B[39m game\u001B[38;5;241m.\u001B[39mcurrent_player)\n",
      "File \u001B[1;32m~\\AppData\\Roaming\\JetBrains\\DataSpell2021.3\\projects\\workspace\\venv\\lib\\site-packages\\easyAI\\TwoPlayerGame.py:110\u001B[0m, in \u001B[0;36mTwoPlayerGame.play\u001B[1;34m(self, nmoves, verbose)\u001B[0m\n\u001B[0;32m    107\u001B[0m \u001B[38;5;28;01mif\u001B[39;00m \u001B[38;5;28mself\u001B[39m\u001B[38;5;241m.\u001B[39mis_over():\n\u001B[0;32m    108\u001B[0m     \u001B[38;5;28;01mbreak\u001B[39;00m\n\u001B[1;32m--> 110\u001B[0m move \u001B[38;5;241m=\u001B[39m \u001B[38;5;28;43mself\u001B[39;49m\u001B[38;5;241;43m.\u001B[39;49m\u001B[43mplayer\u001B[49m\u001B[38;5;241;43m.\u001B[39;49m\u001B[43mask_move\u001B[49m\u001B[43m(\u001B[49m\u001B[38;5;28;43mself\u001B[39;49m\u001B[43m)\u001B[49m\n\u001B[0;32m    111\u001B[0m history\u001B[38;5;241m.\u001B[39mappend((deepcopy(\u001B[38;5;28mself\u001B[39m), move))\n\u001B[0;32m    112\u001B[0m \u001B[38;5;28mself\u001B[39m\u001B[38;5;241m.\u001B[39mmake_move(move)\n",
      "\u001B[1;31mTypeError\u001B[0m: ask_move() missing 1 required positional argument: 'game'"
     ]
    }
   ],
   "source": [
    "\n",
    "if __name__ == \"__main__\":\n",
    "    from easyAI import AI_Player, AI_Player, Negamax\n",
    "\n",
    "    # Przykładowo AI na AI:\n",
    "    game = Reversi([AI_Player(Negamax(4)), AI_Player(Negamax(4))])\n",
    "\n",
    "    game.play()\n",
    "    if game.scoring() > 0:\n",
    "        print(\"player %d wins.\" % game.current_player)\n",
    "    elif game.scoring() < 0:\n",
    "        print(\"player %d wins.\" % game.opponent_index)\n",
    "    else:\n",
    "        print(\"Draw.\"\n",
    "              )#%%"
   ],
   "metadata": {
    "collapsed": false,
    "pycharm": {
     "name": "#%%\n"
    }
   }
  },
  {
   "cell_type": "code",
   "execution_count": null,
   "outputs": [],
   "source": [],
   "metadata": {
    "collapsed": false,
    "pycharm": {
     "name": "#%%\n"
    }
   }
  }
 ],
 "metadata": {
  "kernelspec": {
   "display_name": "Python 3",
   "language": "python",
   "name": "python3"
  },
  "language_info": {
   "codemirror_mode": {
    "name": "ipython",
    "version": 2
   },
   "file_extension": ".py",
   "mimetype": "text/x-python",
   "name": "python",
   "nbconvert_exporter": "python",
   "pygments_lexer": "ipython2",
   "version": "2.7.6"
  }
 },
 "nbformat": 4,
 "nbformat_minor": 0
}
